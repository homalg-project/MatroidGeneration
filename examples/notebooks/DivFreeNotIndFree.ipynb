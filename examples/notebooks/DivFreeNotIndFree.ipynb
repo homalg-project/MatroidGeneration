{
 "cells": [
  {
   "cell_type": "markdown",
   "metadata": {},
   "source": [
    "[![Binder](https://mybinder.org/badge_logo.svg)](https://gesis.mybinder.org/v2/gh/homalg-project/CapAndHomalgNotebooks/master?urlpath=git-pull%3Frepo%3Dhttps%253A%252F%252Fgithub.com%252Fhomalg-project%252FMatroidGeneration%26urlpath%3Dtree%252FMatroidGeneration%252Fexamples%252F%252Fnotebooks%252FDivFreeNotIndFree.ipynb%26branch%3Dmaster)"
   ]
  },
  {
   "cell_type": "markdown",
   "metadata": {},
   "source": [
    "# What is the smallest number $n$ of atoms of a representable rank $3$ matroid which is divisionally free but not inductively free?\n",
    "\n",
    "The explanation of the question and the answer $n = 14$ can be found in [BBJKL]. It turns out that there is exactly one representable matroid with $14$ atoms having this property. Below we compute its moduli space of representations and prove that its fibers over $\\operatorname{Spec} \\mathbb{Z}$ are inhabited in characteristics different from $2$ and $5$.\n",
    "\n",
    "[BBJKL] Mohamed Barakat, Reimer Behrends, Christopher Jefferson, Lukas Kühne, and Martin Leuner. *On the generation of rank $3$ simple matroids with an application to Terao's freeness conjecture.* ([arXiv:1907.01073](https://arxiv.org/abs/1907.01073))"
   ]
  },
  {
   "cell_type": "markdown",
   "metadata": {},
   "source": [
    "### We start by loading the necessary packages:"
   ]
  },
  {
   "cell_type": "code",
   "execution_count": 1,
   "metadata": {},
   "outputs": [
    {
     "name": "stdout",
     "output_type": "stream",
     "text": [
      "CapAndHomalg v\u001b[32m1.4.2\u001b[39m\n",
      "Imported OSCAR's components GAP and Singular_jll\n",
      "Type: ?CapAndHomalg for more information\n"
     ]
    }
   ],
   "source": [
    "using CapAndHomalg"
   ]
  },
  {
   "cell_type": "code",
   "execution_count": 2,
   "metadata": {},
   "outputs": [
    {
     "name": "stdout",
     "output_type": "stream",
     "text": [
      "#I  Warning: ParallelyEvaluateRecursiveIterator can only be loaded in HPCGAP\n"
     ]
    }
   ],
   "source": [
    "LoadPackage( \"MatroidGeneration\" )"
   ]
  },
  {
   "cell_type": "markdown",
   "metadata": {},
   "source": [
    "### Construct the matroid out of the list of coatoms, i.e., the flats of rank $n-1 = 3-1 = 2$, see [BBJKL, Example 1.3]."
   ]
  },
  {
   "cell_type": "code",
   "execution_count": 3,
   "metadata": {},
   "outputs": [],
   "source": [
    "coatoms =\n",
    "  [ [ 1, 2, 3, 4, 5 ], [ 1, 6, 7, 8, 9 ],\n",
    "    [ 1, 10, 11, 12 ], [ 2, 6, 10, 13 ], [ 2, 7, 11, 14 ], [ 3, 6, 12, 14 ], [ 3, 8, 11, 13 ], [ 4, 9, 10, 14 ],\n",
    "    [ 4, 7, 13 ], [ 5, 7, 12 ], [ 5, 8, 10 ], [ 5, 9, 11 ], [ 5, 13, 14 ], [ 9, 12, 13 ],\n",
    "    [ 1, 13 ], [ 1, 14 ], [ 2, 8 ], [ 2, 9 ], [ 2, 12 ], [ 3, 7 ], [ 3, 9 ], [ 3, 10 ],\n",
    "    [ 4, 6 ], [ 4, 8 ], [ 4, 11 ], [ 4, 12 ], [ 5, 6 ], [ 6, 11 ], [ 7, 10 ], [ 8, 12 ], [ 8, 14 ] ];"
   ]
  },
  {
   "cell_type": "code",
   "execution_count": 4,
   "metadata": {},
   "outputs": [
    {
     "data": {
      "text/plain": [
       "GAP: <A matroid>"
      ]
     },
     "execution_count": 4,
     "metadata": {},
     "output_type": "execute_result"
    }
   ],
   "source": [
    "matroid = MatroidByCoatomsNC( 14, 3, ConvertJuliaToGAP( coatoms ) )"
   ]
  },
  {
   "cell_type": "markdown",
   "metadata": {},
   "source": [
    "### Define the ring of coefficients over which to define the moduli space of representations:"
   ]
  },
  {
   "cell_type": "code",
   "execution_count": 5,
   "metadata": {},
   "outputs": [
    {
     "data": {
      "text/plain": [
       "GAP: Z"
      ]
     },
     "execution_count": 5,
     "metadata": {},
     "output_type": "execute_result"
    }
   ],
   "source": [
    "ℤ = HomalgRingOfIntegersInSingular( )"
   ]
  },
  {
   "cell_type": "code",
   "execution_count": 6,
   "metadata": {},
   "outputs": [],
   "source": [
    "SetInfoLevel( InfoWarning, 0 )"
   ]
  },
  {
   "cell_type": "markdown",
   "metadata": {},
   "source": [
    "### Compute the moduli space of representations:"
   ]
  },
  {
   "cell_type": "code",
   "execution_count": 7,
   "metadata": {},
   "outputs": [],
   "source": [
    "LoadPackage( \"ZariskiFrames\" )"
   ]
  },
  {
   "cell_type": "code",
   "execution_count": 8,
   "metadata": {},
   "outputs": [],
   "source": [
    "M = EquationsAndInequationsOfModuliSpaceOfMatroid( matroid, ℤ );"
   ]
  },
  {
   "cell_type": "code",
   "execution_count": 9,
   "metadata": {},
   "outputs": [
    {
     "data": {
      "text/plain": [
       "GAP: V_{Z[a1,a2,a3,a4,a5,a6,a7,a8,a9,a10,a11,a12]}( I ) \\ V_{Z[a1,a2,a3,a4,a5,a6,a7,a8,a9,a10,a11,a12]}( J_1 ) \\ .. \\ V_{Z[a1,a2,a3,a4,a5,a6,a7,a8,a9,a10,a11,a12]}( J_199 )"
      ]
     },
     "execution_count": 9,
     "metadata": {},
     "output_type": "execute_result"
    }
   ],
   "source": [
    "m = DistinguishedQuasiAffineSet( M )"
   ]
  },
  {
   "cell_type": "code",
   "execution_count": 10,
   "metadata": {},
   "outputs": [
    {
     "name": "stdout",
     "output_type": "stream",
     "text": [
      "V( <-a1*a10-1,-a1*a5-a4,-a11+1,-a12+1,-a2*a5-a3,-a2*a9+a2-a8,-a3*a6+a3-a7,-a3-a10,-a5*a11-a4+a12,-a5*a6+a5*a8+a7-a9,-a5*a6+a7,-a5*a8+a9,-a7*a11+a6*a12-a6+a11,-a7*a8+a6*a9,-a7+1,-a8+1,-a8+a11,-a9*a11+a8*a12+a9-a12,a1*a4-a4*a11-a1*a12,a1*a5-a5*a11+a12,a2*a10-a10*a11+a12,a2*a4-a4*a6-a2*a7,a6*a10+a3-a7,a6*a10-a7-a10,a7-a12,a8*a10+a4-a9> ) \\ V( <-a1*a10+a2*a10> ) \\ V( <-a1*a10+a6*a10-a7> ) \\ V( <-a1*a10+a8*a10-a9> ) \\ V( <-a1*a10-a3> ) \\ V( <-a1*a10-a4> ) \\ V( <-a1*a12+a1-a11> ) \\ V( <-a1*a12+a2*a12> ) \\ V( <-a1*a3+a1> ) \\ V( <-a1*a3+a2*a3> ) \\ V( <-a1*a4+a1> ) \\ V( <-a1*a4+a2*a4> ) \\ V( <-a1*a5+a2*a5> ) \\ V( <-a1*a5-1> ) \\ V( <-a1*a5-a3> ) \\ V( <-a1*a7+a1-a6> ) \\ V( <-a1*a7+a2*a7> ) \\ V( <-a1*a9+a1-a8> ) \\ V( <-a1*a9+a2*a9> ) \\ V( <-a1+a2> ) \\ V( <-a10> ) \\ V( <-a10*a11+a10+a12> ) \\ V( <-a10*a11+a12> ) \\ V( <-a10*a11+a12-1> ) \\ V( <-a10*a11-a3+a12> ) \\ V( <-a10*a11-a4+a12> ) \\ V( <-a10-1> ) \\ V( <-a11> ) \\ V( <-a11-a12+1> ) \\ V( <-a12> ) \\ V( <-a2*a10+a6*a10-a7> ) \\ V( <-a2*a10+a8*a10-a9> ) \\ V( <-a2*a10-1> ) \\ V( <-a2*a10-a3> ) \\ V( <-a2*a10-a4> ) \\ V( <-a2*a12+a2-a11> ) \\ V( <-a2*a3+a2> ) \\ V( <-a2*a4+a2> ) \\ V( <-a2*a5-1> ) \\ V( <-a2*a5-a4> ) \\ V( <-a2*a7+a2-a6> ) \\ V( <-a3> ) \\ V( <-a3*a11> ) \\ V( <-a3*a11+a11> ) \\ V( <-a3*a11+a3-a12> ) \\ V( <-a3*a6> ) \\ V( <-a3*a6+a3*a11-a7*a11+a6*a12> ) \\ V( <-a3*a6+a3*a8-a7*a8+a6*a9> ) \\ V( <-a3*a6+a6> ) \\ V( <-a3*a8> ) \\ V( <-a3*a8+a3*a11-a9*a11+a8*a12> ) \\ V( <-a3*a8+a3-a9> ) \\ V( <-a3*a8+a8> ) \\ V( <-a3+1> ) \\ V( <-a3-a5> ) \\ V( <-a4> ) \\ V( <-a4*a11> ) \\ V( <-a4*a11+a11> ) \\ V( <-a4*a11+a4-a12> ) \\ V( <-a4*a6> ) \\ V( <-a4*a6+a4*a11-a7*a11+a6*a12> ) \\ V( <-a4*a6+a4*a8-a7*a8+a6*a9> ) \\ V( <-a4*a6+a4-a7> ) \\ V( <-a4*a6+a6> ) \\ V( <-a4*a8> ) \\ V( <-a4*a8+a4*a11-a9*a11+a8*a12> ) \\ V( <-a4*a8+a4-a9> ) \\ V( <-a4*a8+a8> ) \\ V( <-a4+1> ) \\ V( <-a4-a10> ) \\ V( <-a4-a5> ) \\ V( <-a5> ) \\ V( <-a5*a11+a12> ) \\ V( <-a5*a11+a12-1> ) \\ V( <-a5*a11+a5+a12> ) \\ V( <-a5*a11-a3+a12> ) \\ V( <-a5*a6+a5*a11+a7-a12> ) \\ V( <-a5*a6+a5+a7> ) \\ V( <-a5*a6+a7-1> ) \\ V( <-a5*a6-a3+a7> ) \\ V( <-a5*a6-a4+a7> ) \\ V( <-a5*a8+a5*a11+a9-a12> ) \\ V( <-a5*a8+a5+a9> ) \\ V( <-a5*a8+a9-1> ) \\ V( <-a5*a8-a3+a9> ) \\ V( <-a5*a8-a4+a9> ) \\ V( <-a5+a10> ) \\ V( <-a5-1> ) \\ V( <-a6> ) \\ V( <-a6*a10+a8*a10+a7-a9> ) \\ V( <-a6+1> ) \\ V( <-a6+a11> ) \\ V( <-a6+a8> ) \\ V( <-a6-a7+1> ) \\ V( <-a7> ) \\ V( <-a7*a11+a6*a12> ) \\ V( <-a7*a11+a6*a12+a7-a12> ) \\ V( <-a7*a8+a6*a9+a7*a11-a9*a11-a6*a12+a8*a12> ) \\ V( <-a7*a8+a6*a9+a7-a9> ) \\ V( <-a7*a8+a6*a9-a6+a8> ) \\ V( <-a8> ) \\ V( <-a8-a9+1> ) \\ V( <-a9> ) \\ V( <-a9*a11+a8*a12> ) \\ V( <-a9*a11+a8*a12-a8+a11> ) \\ V( <-a9+1> ) \\ V( <a1> ) \\ V( <a1*a10> ) \\ V( <a1*a10-a10> ) \\ V( <a1*a10-a10*a11+a12> ) \\ V( <a1*a12> ) \\ V( <a1*a12-a12> ) \\ V( <a1*a3> ) \\ V( <a1*a3-a1*a4> ) \\ V( <a1*a3-a3> ) \\ V( <a1*a3-a3*a11-a1*a12> ) \\ V( <a1*a3-a3*a6-a1*a7> ) \\ V( <a1*a3-a3*a8-a1*a9> ) \\ V( <a1*a4> ) \\ V( <a1*a4-a4> ) \\ V( <a1*a4-a4*a6-a1*a7> ) \\ V( <a1*a4-a4*a8-a1*a9> ) \\ V( <a1*a5> ) \\ V( <a1*a5-a5> ) \\ V( <a1*a5-a5*a6+a7> ) \\ V( <a1*a5-a5*a8+a9> ) \\ V( <a1*a7> ) \\ V( <a1*a7-a7> ) \\ V( <a1*a7-a7*a11-a1*a12+a6*a12> ) \\ V( <a1*a7-a7*a8-a1*a9+a6*a9> ) \\ V( <a1*a9> ) \\ V( <a1*a9-a9> ) \\ V( <a1*a9-a9*a11-a1*a12+a8*a12> ) \\ V( <a1-1> ) \\ V( <a1-a11> ) \\ V( <a1-a6> ) \\ V( <a1-a8> ) \\ V( <a10> ) \\ V( <a11> ) \\ V( <a12> ) \\ V( <a2> ) \\ V( <a2*a10> ) \\ V( <a2*a10-a10> ) \\ V( <a2*a12> ) \\ V( <a2*a12-a12> ) \\ V( <a2*a3> ) \\ V( <a2*a3-a2*a4> ) \\ V( <a2*a3-a3> ) \\ V( <a2*a3-a3*a11-a2*a12> ) \\ V( <a2*a3-a3*a6-a2*a7> ) \\ V( <a2*a3-a3*a8-a2*a9> ) \\ V( <a2*a4> ) \\ V( <a2*a4-a4> ) \\ V( <a2*a4-a4*a11-a2*a12> ) \\ V( <a2*a4-a4*a8-a2*a9> ) \\ V( <a2*a5> ) \\ V( <a2*a5-a5> ) \\ V( <a2*a5-a5*a11+a12> ) \\ V( <a2*a5-a5*a6+a7> ) \\ V( <a2*a5-a5*a8+a9> ) \\ V( <a2*a7> ) \\ V( <a2*a7-a7> ) \\ V( <a2*a7-a7*a11-a2*a12+a6*a12> ) \\ V( <a2*a7-a7*a8-a2*a9+a6*a9> ) \\ V( <a2*a9> ) \\ V( <a2*a9-a9> ) \\ V( <a2*a9-a9*a11-a2*a12+a8*a12> ) \\ V( <a2-1> ) \\ V( <a2-a11> ) \\ V( <a2-a6> ) \\ V( <a2-a8> ) \\ V( <a3> ) \\ V( <a3*a11-a4*a11> ) \\ V( <a3*a6-a4*a6> ) \\ V( <a3*a8-a4*a8> ) \\ V( <a3-a12> ) \\ V( <a3-a4> ) \\ V( <a3-a7> ) \\ V( <a3-a9> ) \\ V( <a4> ) \\ V( <a4\\\n",
      "-a12> ) \\ V( <a4-a7> ) \\ V( <a4-a9> ) \\ V( <a5> ) \\ V( <a5-a10> ) \\ V( <a6> ) \\ V( <a6*a10+a4-a7> ) \\ V( <a6*a10-a10*a11-a7+a12> ) \\ V( <a6*a10-a7> ) \\ V( <a6*a10-a7+1> ) \\ V( <a7> ) \\ V( <a7-a9> ) \\ V( <a8> ) \\ V( <a8*a10+a3-a9> ) \\ V( <a8*a10-a10*a11-a9+a12> ) \\ V( <a8*a10-a9> ) \\ V( <a8*a10-a9+1> ) \\ V( <a8*a10-a9-a10> ) \\ V( <a9> ) \\ V( <a9-a12> )\n"
     ]
    }
   ],
   "source": [
    "Display( m )"
   ]
  },
  {
   "cell_type": "markdown",
   "metadata": {},
   "source": [
    "### The points of the above quasi-affine moduli space are admissible specializations of the following parametrized arrangement:"
   ]
  },
  {
   "cell_type": "code",
   "execution_count": 11,
   "metadata": {},
   "outputs": [
    {
     "data": {
      "text/plain": [
       "GAP: <A vector matroid>"
      ]
     },
     "execution_count": 11,
     "metadata": {},
     "output_type": "execute_result"
    }
   ],
   "source": [
    "arr = ParametrizedObject( m )"
   ]
  },
  {
   "cell_type": "code",
   "execution_count": 12,
   "metadata": {},
   "outputs": [
    {
     "name": "stdout",
     "output_type": "stream",
     "text": [
      "The vector matroid of this matrix over Z[a1,a2,a3,a4,a5,a6,a7,a8,a9,a10,a11,a12]:\n",
      "1,0,1,1, 1, 0,1,1, 1, 0, 1, 1, 0,  1,  \n",
      "0,1,1,a1,a2,0,0,0, 0, 1, a6,a8,1,  a11,\n",
      "0,0,0,0, 0, 1,1,a3,a4,a5,a7,a9,a10,a12 \n"
     ]
    }
   ],
   "source": [
    "Display( arr )"
   ]
  },
  {
   "cell_type": "markdown",
   "metadata": {},
   "source": [
    "### Embed the moduli space in a significantly smaller ambient affine space:"
   ]
  },
  {
   "cell_type": "code",
   "execution_count": 13,
   "metadata": {},
   "outputs": [
    {
     "data": {
      "text/plain": [
       "GAP: V_{Z[a9]}( I ) \\ V_{Z[a9]}( J_1 ) \\ V_{Z[a9]}( J_2 )"
      ]
     },
     "execution_count": 13,
     "metadata": {},
     "output_type": "execute_result"
    }
   ],
   "source": [
    "e = EmbedInSmallerAmbientSpace( m )"
   ]
  },
  {
   "cell_type": "code",
   "execution_count": 14,
   "metadata": {},
   "outputs": [
    {
     "name": "stdout",
     "output_type": "stream",
     "text": [
      "V( <2*a9^2-2*a9+1> ) \\ V( <5,a9+1> ) \\ V( <5,a9-2> )\n"
     ]
    }
   ],
   "source": [
    "Display( e )"
   ]
  },
  {
   "cell_type": "markdown",
   "metadata": {},
   "source": [
    "### Show that the moduli space is in fact a distinguished quasi affine set, i.e., the difference of an affine set and a hypersurface:"
   ]
  },
  {
   "cell_type": "code",
   "execution_count": 15,
   "metadata": {},
   "outputs": [
    {
     "data": {
      "text/plain": [
       "GAP: V_{Z[a9]}( I ) \\ V_{Z[a9]}( J_1 ) \\ V_{Z[a9]}( J_2 )"
      ]
     },
     "execution_count": 15,
     "metadata": {},
     "output_type": "execute_result"
    }
   ],
   "source": [
    "a = DistinguishedLocallyClosedPart( e )"
   ]
  },
  {
   "cell_type": "code",
   "execution_count": 16,
   "metadata": {},
   "outputs": [
    {
     "name": "stdout",
     "output_type": "stream",
     "text": [
      "V( <2*a9^2-2*a9+1> ) \\ V( <3*a9-1> ) \\ V( <a9+1> )\n"
     ]
    }
   ],
   "source": [
    "Display( a )"
   ]
  },
  {
   "cell_type": "markdown",
   "metadata": {},
   "source": [
    "### Rewrite the parametrized arrangement on the parameters of the new ambient affine space:"
   ]
  },
  {
   "cell_type": "code",
   "execution_count": 17,
   "metadata": {},
   "outputs": [
    {
     "data": {
      "text/plain": [
       "GAP: <A vector matroid>"
      ]
     },
     "execution_count": 17,
     "metadata": {},
     "output_type": "execute_result"
    }
   ],
   "source": [
    "arr = ParametrizedObject( e )"
   ]
  },
  {
   "cell_type": "code",
   "execution_count": 18,
   "metadata": {},
   "outputs": [
    {
     "name": "stdout",
     "output_type": "stream",
     "text": [
      "The vector matroid of this matrix over Z[a9]/( 2*a9^2-2*a9+1 ):\n",
      "1,0,1,1,     1,   0,1,1,      1,    0, 1,      1, 0,     1,\n",
      "0,1,1,2*a9-1,2*a9,0,0,0,      0,    1, -2*a9+2,1, 1,     1,\n",
      "0,0,0,0,     0,   1,1,-2*a9+1,-a9+1,a9,1,      a9,2*a9-1,1 \n",
      "\n",
      "modulo [ 2*a9^2-2*a9+1 ]\n"
     ]
    }
   ],
   "source": [
    "Display( arr )"
   ]
  },
  {
   "cell_type": "markdown",
   "metadata": {},
   "source": [
    "### Compute the characteristic set of the matroid, i.e., the projection of the moduli space on $\\operatorname{Spec} \\mathbb{Z}$:"
   ]
  },
  {
   "cell_type": "code",
   "execution_count": 19,
   "metadata": {},
   "outputs": [
    {
     "data": {
      "text/plain": [
       "GAP: ( V_{Z}( I1 ) \\ V_{Z}( J1_1 ) \\ V_{Z}( J1_2 ) )"
      ]
     },
     "execution_count": 19,
     "metadata": {},
     "output_type": "execute_result"
    }
   ],
   "source": [
    "charset = ConstructibleProjection( e )"
   ]
  },
  {
   "cell_type": "code",
   "execution_count": 20,
   "metadata": {},
   "outputs": [
    {
     "name": "stdout",
     "output_type": "stream",
     "text": [
      "V( <> ) \\ V( <2> ) \\ V( <5> )\n"
     ]
    }
   ],
   "source": [
    "Display( charset )"
   ]
  },
  {
   "cell_type": "markdown",
   "metadata": {},
   "source": [
    "### Construct points of the moduli space (they are arrangements in all characteristics apart from $2$ and $5$):"
   ]
  },
  {
   "cell_type": "code",
   "execution_count": 21,
   "metadata": {},
   "outputs": [
    {
     "data": {
      "text/plain": [
       "GAP: <iterator of closed points of V_{Z[a9]}( I ) \\ V_{Z[a9]}( J_1 ) \\ V_{Z[a9]}( J_2 )>"
      ]
     },
     "execution_count": 21,
     "metadata": {},
     "output_type": "execute_result"
    }
   ],
   "source": [
    "piter = PseudoIteratorOfClosedPoints( e )"
   ]
  },
  {
   "cell_type": "code",
   "execution_count": 22,
   "metadata": {},
   "outputs": [
    {
     "data": {
      "text/plain": [
       "GAP: <A vector matroid>"
      ]
     },
     "execution_count": 22,
     "metadata": {},
     "output_type": "execute_result"
    }
   ],
   "source": [
    "p = NextIterator( piter )"
   ]
  },
  {
   "cell_type": "code",
   "execution_count": 23,
   "metadata": {},
   "outputs": [
    {
     "name": "stdout",
     "output_type": "stream",
     "text": [
      "The vector matroid of this matrix over GF(3)[a9]/( a9^2-a9-1 ):\n",
      "1,0,1,1,    1,  0,1,1,   1,    0, 1,   1, 0,    1,\n",
      "0,1,1,-a9-1,-a9,0,0,0,   0,    1, a9-1,1, 1,    1,\n",
      "0,0,0,0,    0,  1,1,a9+1,-a9+1,a9,1,   a9,-a9-1,1 \n",
      "\n",
      "modulo [ a9^2-a9-1 ]\n"
     ]
    }
   ],
   "source": [
    "Display( p )"
   ]
  },
  {
   "cell_type": "code",
   "execution_count": 24,
   "metadata": {},
   "outputs": [
    {
     "data": {
      "text/plain": [
       "GAP: <A vector matroid>"
      ]
     },
     "execution_count": 24,
     "metadata": {},
     "output_type": "execute_result"
    }
   ],
   "source": [
    "p = NextIterator( piter )"
   ]
  },
  {
   "cell_type": "code",
   "execution_count": 25,
   "metadata": {},
   "outputs": [
    {
     "name": "stdout",
     "output_type": "stream",
     "text": [
      "The vector matroid of this matrix over GF(7)[a9]/( a9^2-a9-3 ):\n",
      "1,0,1,1,     1,   0,1,1,      1,    0, 1,      1, 0,     1,\n",
      "0,1,1,2*a9-1,2*a9,0,0,0,      0,    1, -2*a9+2,1, 1,     1,\n",
      "0,0,0,0,     0,   1,1,-2*a9+1,-a9+1,a9,1,      a9,2*a9-1,1 \n",
      "\n",
      "modulo [ a9^2-a9-3 ]\n"
     ]
    }
   ],
   "source": [
    "Display( p )"
   ]
  },
  {
   "cell_type": "code",
   "execution_count": 26,
   "metadata": {},
   "outputs": [
    {
     "data": {
      "text/plain": [
       "GAP: <A vector matroid>"
      ]
     },
     "execution_count": 26,
     "metadata": {},
     "output_type": "execute_result"
    }
   ],
   "source": [
    "p = NextIterator( piter )"
   ]
  },
  {
   "cell_type": "code",
   "execution_count": 27,
   "metadata": {},
   "outputs": [
    {
     "name": "stdout",
     "output_type": "stream",
     "text": [
      "The vector matroid of this matrix over GF(11)[a9]/( a9^2-a9-5 ):\n",
      "1,0,1,1,     1,   0,1,1,      1,    0, 1,      1, 0,     1,\n",
      "0,1,1,2*a9-1,2*a9,0,0,0,      0,    1, -2*a9+2,1, 1,     1,\n",
      "0,0,0,0,     0,   1,1,-2*a9+1,-a9+1,a9,1,      a9,2*a9-1,1 \n",
      "\n",
      "modulo [ a9^2-a9-5 ]\n"
     ]
    }
   ],
   "source": [
    "Display( p )"
   ]
  },
  {
   "cell_type": "code",
   "execution_count": 28,
   "metadata": {},
   "outputs": [
    {
     "data": {
      "text/plain": [
       "GAP: <A vector matroid>"
      ]
     },
     "execution_count": 28,
     "metadata": {},
     "output_type": "execute_result"
    }
   ],
   "source": [
    "p = NextIterator( piter )"
   ]
  },
  {
   "cell_type": "code",
   "execution_count": 29,
   "metadata": {},
   "outputs": [
    {
     "name": "stdout",
     "output_type": "stream",
     "text": [
      "The vector matroid of this matrix over GF(13):\n",
      "1,0,1,1, 1, 0,1,1,1,0, 1,1, 0, 1,\n",
      "0,1,1,-5,-4,0,0,0,0,1, 6,1, 1, 1,\n",
      "0,0,0,0, 0, 1,1,5,3,-2,1,-2,-5,1 \n"
     ]
    }
   ],
   "source": [
    "Display( p )"
   ]
  },
  {
   "cell_type": "code",
   "execution_count": 30,
   "metadata": {},
   "outputs": [
    {
     "data": {
      "text/plain": [
       "GAP: <A vector matroid>"
      ]
     },
     "execution_count": 30,
     "metadata": {},
     "output_type": "execute_result"
    }
   ],
   "source": [
    "p = NextIterator( piter )"
   ]
  },
  {
   "cell_type": "code",
   "execution_count": 31,
   "metadata": {},
   "outputs": [
    {
     "name": "stdout",
     "output_type": "stream",
     "text": [
      "The vector matroid of this matrix over GF(17):\n",
      "1,0,1,1,1,0,1,1, 1,0, 1, 1, 0,1,\n",
      "0,1,1,4,5,0,0,0, 0,1, -3,1, 1,1,\n",
      "0,0,0,0,0,1,1,-4,7,-6,1, -6,4,1 \n"
     ]
    }
   ],
   "source": [
    "Display( p )"
   ]
  }
 ],
 "metadata": {
  "@webio": {
   "lastCommId": null,
   "lastKernelId": null
  },
  "kernelspec": {
   "display_name": "Julia 1.7.3",
   "language": "julia",
   "name": "julia-1.7"
  },
  "language_info": {
   "file_extension": ".jl",
   "mimetype": "application/julia",
   "name": "julia",
   "version": "1.7.3"
  }
 },
 "nbformat": 4,
 "nbformat_minor": 2
}
