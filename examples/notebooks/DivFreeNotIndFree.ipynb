{
 "cells": [
  {
   "cell_type": "markdown",
   "id": "5dd5d895",
   "metadata": {},
   "source": [
    "[![Binder](https://mybinder.org/badge_logo.svg)](https://gesis.mybinder.org/v2/gh/homalg-project/CapAndHomalgNotebooks/master?urlpath=git-pull%3Frepo%3Dhttps%253A%252F%252Fgithub.com%252Fhomalg-project%252FMatroidGeneration%26urlpath%3Dtree%252FMatroidGeneration%252Fexamples%252F%252Fnotebooks%252FDivFreeNotIndFree.ipynb%26branch%3Dmaster)"
   ]
  },
  {
   "cell_type": "markdown",
   "id": "4230bfb7",
   "metadata": {},
   "source": [
    "# What is the smallest number $n$ of atoms of a representable rank $3$ matroid which is divisionally free but not inductively free?\n",
    "\n",
    "The explanation of the question and the answer $n = 14$ can be found in [BBJKL]. It turns out that there is exactly one representable matroid with $14$ atoms having this property. Below we compute its moduli space of representations and prove that its fibers over $\\operatorname{Spec} \\mathbb{Z}$ are inhabited in characteristics different from $2$ and $5$.\n",
    "\n",
    "[BBJKL] Mohamed Barakat, Reimer Behrends, Christopher Jefferson, Lukas Kühne, and Martin Leuner. *On the generation of rank $3$ simple matroids with an application to Terao's freeness conjecture.* ([arXiv:1907.01073](https://arxiv.org/abs/1907.01073))"
   ]
  },
  {
   "cell_type": "markdown",
   "id": "37ed3179",
   "metadata": {},
   "source": [
    "### We start by loading the necessary packages:"
   ]
  },
  {
   "cell_type": "code",
   "execution_count": 1,
   "id": "ab5af5b5",
   "metadata": {},
   "outputs": [
    {
     "name": "stdout",
     "output_type": "stream",
     "text": [
      "CapAndHomalg v\u001b[32m1.6.0\u001b[39m\n",
      "Imported OSCAR's components GAP and Singular_jll\n",
      "Type: ?CapAndHomalg for more information\n"
     ]
    }
   ],
   "source": [
    "using CapAndHomalg"
   ]
  },
  {
   "cell_type": "code",
   "execution_count": 2,
   "id": "d25f6fc3",
   "metadata": {},
   "outputs": [
    {
     "name": "stdout",
     "output_type": "stream",
     "text": [
      "#I  Warning: ParallelyEvaluateRecursiveIterator can only be loaded in HPCGAP\n"
     ]
    }
   ],
   "source": [
    "LoadPackage( \"MatroidGeneration\" )"
   ]
  },
  {
   "cell_type": "markdown",
   "id": "dabada08",
   "metadata": {},
   "source": [
    "### Construct the matroid out of the list of coatoms, i.e., the flats of rank $n-1 = 3-1 = 2$, see [BBJKL, Example 1.3]."
   ]
  },
  {
   "cell_type": "code",
   "execution_count": 3,
   "id": "5c3fa786",
   "metadata": {},
   "outputs": [],
   "source": [
    "coatoms =\n",
    "  [ [ 1, 2, 3, 4, 5 ], [ 1, 6, 7, 8, 9 ],\n",
    "    [ 1, 10, 11, 12 ], [ 2, 6, 10, 13 ], [ 2, 7, 11, 14 ], [ 3, 6, 12, 14 ], [ 3, 8, 11, 13 ], [ 4, 9, 10, 14 ],\n",
    "    [ 4, 7, 13 ], [ 5, 7, 12 ], [ 5, 8, 10 ], [ 5, 9, 11 ], [ 5, 13, 14 ], [ 9, 12, 13 ],\n",
    "    [ 1, 13 ], [ 1, 14 ], [ 2, 8 ], [ 2, 9 ], [ 2, 12 ], [ 3, 7 ], [ 3, 9 ], [ 3, 10 ],\n",
    "    [ 4, 6 ], [ 4, 8 ], [ 4, 11 ], [ 4, 12 ], [ 5, 6 ], [ 6, 11 ], [ 7, 10 ], [ 8, 12 ], [ 8, 14 ] ];"
   ]
  },
  {
   "cell_type": "code",
   "execution_count": 4,
   "id": "50a50658",
   "metadata": {},
   "outputs": [
    {
     "data": {
      "text/plain": [
       "GAP: <A matroid>"
      ]
     },
     "execution_count": 4,
     "metadata": {},
     "output_type": "execute_result"
    }
   ],
   "source": [
    "matroid = MatroidByCoatomsNC( 14, 3, ConvertJuliaToGAP( coatoms ) )"
   ]
  },
  {
   "cell_type": "markdown",
   "id": "e5beede8",
   "metadata": {},
   "source": [
    "### Define the ring of coefficients over which to define the moduli space of representations:"
   ]
  },
  {
   "cell_type": "code",
   "execution_count": 5,
   "id": "f5033f41",
   "metadata": {},
   "outputs": [
    {
     "data": {
      "text/plain": [
       "GAP: Z"
      ]
     },
     "execution_count": 5,
     "metadata": {},
     "output_type": "execute_result"
    }
   ],
   "source": [
    "ℤ = HomalgRingOfIntegersInSingular( )"
   ]
  },
  {
   "cell_type": "code",
   "execution_count": 6,
   "id": "e5a72739",
   "metadata": {},
   "outputs": [],
   "source": [
    "SetInfoLevel( InfoWarning, 0 )"
   ]
  },
  {
   "cell_type": "markdown",
   "id": "b527ef1a",
   "metadata": {},
   "source": [
    "### Compute the moduli space of representations:"
   ]
  },
  {
   "cell_type": "code",
   "execution_count": 7,
   "id": "ea2fdec9",
   "metadata": {},
   "outputs": [],
   "source": [
    "LoadPackage( \"ZariskiFrames\" )"
   ]
  },
  {
   "cell_type": "code",
   "execution_count": 8,
   "id": "a8de31cb",
   "metadata": {},
   "outputs": [],
   "source": [
    "M = EquationsAndInequationsOfModuliSpaceOfMatroid( matroid, ℤ );"
   ]
  },
  {
   "cell_type": "code",
   "execution_count": 9,
   "id": "5c548f50",
   "metadata": {},
   "outputs": [
    {
     "data": {
      "text/plain": [
       "GAP: V_{Z[a1,a2,a3,a4,a5,a6,a7,a8,a9,a10,a11,a12]}( I ) \\ V_{Z[a1,a2,a3,a4,a5,a6,a7,a8,a9,a10,a11,a12]}( J_1 ) \\ .. \\ V_{Z[a1,a2,a3,a4,a5,a6,a7,a8,a9,a10,a11,a12]}( J_199 )"
      ]
     },
     "execution_count": 9,
     "metadata": {},
     "output_type": "execute_result"
    }
   ],
   "source": [
    "m = DistinguishedQuasiAffineSet( M )"
   ]
  },
  {
   "cell_type": "code",
   "execution_count": 10,
   "id": "9051d32b",
   "metadata": {
    "scrolled": true
   },
   "outputs": [
    {
     "name": "stdout",
     "output_type": "stream",
     "text": [
      "V( <-a1*a10-1,-a1*a5-a4,-a11+1,-a12+1,-a2*a5-a3,-a2*a9+a2-a8,-a3*a6+a3-a7,-a3-a10,-a5*a11-a4+a12,-a5*a6+a5*a8+a7-a9,-a5*a6+a7,-a5*a8+a9,-a7*a11+a6*a12-a6+a11,-a7*a8+a6*a9,-a7+1,-a8+1,-a8+a11,-a9*a11+a8*a12+a9-a12,a1*a4-a4*a11-a1*a12,a1*a5-a5*a11+a12,a2*a10-a10*a11+a12,a2*a4-a4*a6-a2*a7,a6*a10+a3-a7,a6*a10-a7-a10,a7-a12,a8*a10+a4-a9> )\n",
      "\n",
      "\\ V( <-a1*a10+a2*a10> )\n",
      "\n",
      "\\ V( <-a1*a10+a6*a10-a7> )\n",
      "\n",
      "\\ V( <-a1*a10+a8*a10-a9> )\n",
      "\n",
      "\\ V( <-a1*a10-a3> )\n",
      "\n",
      "\\ V( <-a1*a10-a4> )\n",
      "\n",
      "\\ V( <-a1*a12+a1-a11> )\n",
      "\n",
      "\\ V( <-a1*a12+a2*a12> )\n",
      "\n",
      "\\ V( <-a1*a3+a1> )\n",
      "\n",
      "\\ V( <-a1*a3+a2*a3> )\n",
      "\n",
      "\\ V( <-a1*a4+a1> )\n",
      "\n",
      "\\ V( <-a1*a4+a2*a4> )\n",
      "\n",
      "\\ V( <-a1*a5+a2*a5> )\n",
      "\n",
      "\\ V( <-a1*a5-1> )\n",
      "\n",
      "\\ V( <-a1*a5-a3> )\n",
      "\n",
      "\\ V( <-a1*a7+a1-a6> )\n",
      "\n",
      "\\ V( <-a1*a7+a2*a7> )\n",
      "\n",
      "\\ V( <-a1*a9+a1-a8> )\n",
      "\n",
      "\\ V( <-a1*a9+a2*a9> )\n",
      "\n",
      "\\ V( <-a1+a2> )\n",
      "\n",
      "\\ V( <-a10> )\n",
      "\n",
      "\\ V( <-a10*a11+a10+a12> )\n",
      "\n",
      "\\ V( <-a10*a11+a12> )\n",
      "\n",
      "\\ V( <-a10*a11+a12-1> )\n",
      "\n",
      "\\ V( <-a10*a11-a3+a12> )\n",
      "\n",
      "\\ V( <-a10*a11-a4+a12> )\n",
      "\n",
      "\\ V( <-a10-1> )\n",
      "\n",
      "\\ V( <-a11> )\n",
      "\n",
      "\\ V( <-a11-a12+1> )\n",
      "\n",
      "\\ V( <-a12> )\n",
      "\n",
      "\\ V( <-a2*a10+a6*a10-a7> )\n",
      "\n",
      "\\ V( <-a2*a10+a8*a10-a9> )\n",
      "\n",
      "\\ V( <-a2*a10-1> )\n",
      "\n",
      "\\ V( <-a2*a10-a3> )\n",
      "\n",
      "\\ V( <-a2*a10-a4> )\n",
      "\n",
      "\\ V( <-a2*a12+a2-a11> )\n",
      "\n",
      "\\ V( <-a2*a3+a2> )\n",
      "\n",
      "\\ V( <-a2*a4+a2> )\n",
      "\n",
      "\\ V( <-a2*a5-1> )\n",
      "\n",
      "\\ V( <-a2*a5-a4> )\n",
      "\n",
      "\\ V( <-a2*a7+a2-a6> )\n",
      "\n",
      "\\ V( <-a3> )\n",
      "\n",
      "\\ V( <-a3*a11> )\n",
      "\n",
      "\\ V( <-a3*a11+a11> )\n",
      "\n",
      "\\ V( <-a3*a11+a3-a12> )\n",
      "\n",
      "\\ V( <-a3*a6> )\n",
      "\n",
      "\\ V( <-a3*a6+a3*a11-a7*a11+a6*a12> )\n",
      "\n",
      "\\ V( <-a3*a6+a3*a8-a7*a8+a6*a9> )\n",
      "\n",
      "\\ V( <-a3*a6+a6> )\n",
      "\n",
      "\\ V( <-a3*a8> )\n",
      "\n",
      "\\ V( <-a3*a8+a3*a11-a9*a11+a8*a12> )\n",
      "\n",
      "\\ V( <-a3*a8+a3-a9> )\n",
      "\n",
      "\\ V( <-a3*a8+a8> )\n",
      "\n",
      "\\ V( <-a3+1> )\n",
      "\n",
      "\\ V( <-a3-a5> )\n",
      "\n",
      "\\ V( <-a4> )\n",
      "\n",
      "\\ V( <-a4*a11> )\n",
      "\n",
      "\\ V( <-a4*a11+a11> )\n",
      "\n",
      "\\ V( <-a4*a11+a4-a12> )\n",
      "\n",
      "\\ V( <-a4*a6> )\n",
      "\n",
      "\\ V( <-a4*a6+a4*a11-a7*a11+a6*a12> )\n",
      "\n",
      "\\ V( <-a4*a6+a4*a8-a7*a8+a6*a9> )\n",
      "\n",
      "\\ V( <-a4*a6+a4-a7> )\n",
      "\n",
      "\\ V( <-a4*a6+a6> )\n",
      "\n",
      "\\ V( <-a4*a8> )\n",
      "\n",
      "\\ V( <-a4*a8+a4*a11-a9*a11+a8*a12> )\n",
      "\n",
      "\\ V( <-a4*a8+a4-a9> )\n",
      "\n",
      "\\ V( <-a4*a8+a8> )\n",
      "\n",
      "\\ V( <-a4+1> )\n",
      "\n",
      "\\ V( <-a4-a10> )\n",
      "\n",
      "\\ V( <-a4-a5> )\n",
      "\n",
      "\\ V( <-a5> )\n",
      "\n",
      "\\ V( <-a5*a11+a12> )\n",
      "\n",
      "\\ V( <-a5*a11+a12-1> )\n",
      "\n",
      "\\ V( <-a5*a11+a5+a12> )\n",
      "\n",
      "\\ V( <-a5*a11-a3+a12> )\n",
      "\n",
      "\\ V( <-a5*a6+a5*a11+a7-a12> )\n",
      "\n",
      "\\ V( <-a5*a6+a5+a7> )\n",
      "\n",
      "\\ V( <-a5*a6+a7-1> )\n",
      "\n",
      "\\ V( <-a5*a6-a3+a7> )\n",
      "\n",
      "\\ V( <-a5*a6-a4+a7> )\n",
      "\n",
      "\\ V( <-a5*a8+a5*a11+a9-a12> )\n",
      "\n",
      "\\ V( <-a5*a8+a5+a9> )\n",
      "\n",
      "\\ V( <-a5*a8+a9-1> )\n",
      "\n",
      "\\ V( <-a5*a8-a3+a9> )\n",
      "\n",
      "\\ V( <-a5*a8-a4+a9> )\n",
      "\n",
      "\\ V( <-a5+a10> )\n",
      "\n",
      "\\ V( <-a5-1> )\n",
      "\n",
      "\\ V( <-a6> )\n",
      "\n",
      "\\ V( <-a6*a10+a8*a10+a7-a9> )\n",
      "\n",
      "\\ V( <-a6+1> )\n",
      "\n",
      "\\ V( <-a6+a11> )\n",
      "\n",
      "\\ V( <-a6+a8> )\n",
      "\n",
      "\\ V( <-a6-a7+1> )\n",
      "\n",
      "\\ V( <-a7> )\n",
      "\n",
      "\\ V( <-a7*a11+a6*a12> )\n",
      "\n",
      "\\ V( <-a7*a11+a6*a12+a7-a12> )\n",
      "\n",
      "\\ V( <-a7*a8+a6*a9+a7*a11-a9*a11-a6*a12+a8*a12> )\n",
      "\n",
      "\\ V( <-a7*a8+a6*a9+a7-a9> )\n",
      "\n",
      "\\ V( <-a7*a8+a6*a9-a6+a8> )\n",
      "\n",
      "\\ V( <-a8> )\n",
      "\n",
      "\\ V( <-a8-a9+1> )\n",
      "\n",
      "\\ V( <-a9> )\n",
      "\n",
      "\\ V( <-a9*a11+a8*a12> )\n",
      "\n",
      "\\ V( <-a9*a11+a8*a12-a8+a11> )\n",
      "\n",
      "\\ V( <-a9+1> )\n",
      "\n",
      "\\ V( <a1> )\n",
      "\n",
      "\\ V( <a1*a10> )\n",
      "\n",
      "\\ V( <a1*a10-a10> )\n",
      "\n",
      "\\ V( <a1*a10-a10*a11+a12> )\n",
      "\n",
      "\\ V( <a1*a12> )\n",
      "\n",
      "\\ V( <a1*a12-a12> )\n",
      "\n",
      "\\ V( <a1*a3> )\n",
      "\n",
      "\\ V( <a1*a3-a1*a4> )\n",
      "\n",
      "\\ V( <a1*a3-a3> )\n",
      "\n",
      "\\ V( <a1*a3-a3*a11-a1*a12> )\n",
      "\n",
      "\\ V( <a1*a3-a3*a6-a1*a7> )\n",
      "\n",
      "\\ V( <a1*a3-a3*a8-a1*a9> )\n",
      "\n",
      "\\ V( <a1*a4> )\n",
      "\n",
      "\\ V( <a1*a4-a4> )\n",
      "\n",
      "\\ V( <a1*a4-a4*a6-a1*a7> )\n",
      "\n",
      "\\ V( <a1*a4-a4*a8-a1*a9> )\n",
      "\n",
      "\\ V( <a1*a5> )\n",
      "\n",
      "\\ V( <a1*a5-a5> )\n",
      "\n",
      "\\ V( <a1*a5-a5*a6+a7> )\n",
      "\n",
      "\\ V( <a1*a5-a5*a8+a9> )\n",
      "\n",
      "\\ V( <a1*a7> )\n",
      "\n",
      "\\ V( <a1*a7-a7> )\n",
      "\n",
      "\\ V( <a1*a7-a7*a11-a1*a12+a6*a12> )\n",
      "\n",
      "\\ V( <a1*a7-a7*a8-a1*a9+a6*a9> )\n",
      "\n",
      "\\ V( <a1*a9> )\n",
      "\n",
      "\\ V( <a1*a9-a9> )\n",
      "\n",
      "\\ V( <a1*a9-a9*a11-a1*a12+a8*a12> )\n",
      "\n",
      "\\ V( <a1-1> )\n",
      "\n",
      "\\ V( <a1-a11> )\n",
      "\n",
      "\\ V( <a1-a6> )\n",
      "\n",
      "\\ V( <a1-a8> )\n",
      "\n",
      "\\ V( <a10> )\n",
      "\n",
      "\\ V( <a11> )\n",
      "\n",
      "\\ V( <a12> )\n",
      "\n",
      "\\ V( <a2> )\n",
      "\n",
      "\\ V( <a2*a10> )\n",
      "\n",
      "\\ V( <a2*a10-a10> )\n",
      "\n",
      "\\ V( <a2*a12> )\n",
      "\n",
      "\\ V( <a2*a12-a12> )\n",
      "\n",
      "\\ V( <a2*a3> )\n",
      "\n",
      "\\ V( <a2*a3-a2*a4> )\n",
      "\n",
      "\\ V( <a2*a3-a3> )\n",
      "\n",
      "\\ V( <a2*a3-a3*a11-a2*a12> )\n",
      "\n",
      "\\ V( <a2*a3-a3*a6-a2*a7> )\n",
      "\n",
      "\\ V( <a2*a3-a3*a8-a2*a9> )\n",
      "\n",
      "\\ V( <a2*a4> )\n",
      "\n",
      "\\ V( <a2*a4-a4> )\n",
      "\n",
      "\\ V( <a2*a4-a4*a11-a2*a12> )\n",
      "\n",
      "\\ V( <a2*a4-a4*a8-a2*a9> )\n",
      "\n",
      "\\ V( <a2*a5> )\n",
      "\n",
      "\\ V( <a2*a5-a5> )\n",
      "\n",
      "\\ V( <a2*a5-a5*a11+a12> )\n",
      "\n",
      "\\ V( <a2*a5-a5*a6+a7> )\n",
      "\n",
      "\\ V( <a2*a5-a5*a8+a9> )\n",
      "\n",
      "\\ V( <a2*a7> )\n",
      "\n",
      "\\ V( <a2*a7-a7> )\n",
      "\n",
      "\\ V( <a2*a7-a7*a11-a2*a12+a6*a12> )\n",
      "\n",
      "\\ V( <a2*a7-a7*a8-a2*a9+a6*a9> )\n",
      "\n",
      "\\ V( <a2*a9> )\n",
      "\n",
      "\\ V( <a2*a9-a9> )\n",
      "\n",
      "\\ V( <a2*a9-a9*a11-a2*a12+a8*a12> )\n",
      "\n",
      "\\ V( <a2-1> )\n",
      "\n",
      "\\ V( <a2-a11> )\n",
      "\n",
      "\\ V( <a2-a6> )\n",
      "\n",
      "\\ V( <a2-a8> )\n",
      "\n",
      "\\ V( <a3> )\n",
      "\n",
      "\\ V( <a3*a11-a4*a11> )\n",
      "\n",
      "\\ V( <a3*a6-a4*a6> )\n",
      "\n",
      "\\ V( <a3*a8-a4*a8> )\n",
      "\n",
      "\\ V( <a3-a12> )\n",
      "\n",
      "\\ V( <a3-a4> )\n",
      "\n",
      "\\ V( <a3-a7> )\n",
      "\n",
      "\\ V( <a3-a9> )\n",
      "\n",
      "\\ V( <a4> )\n",
      "\n",
      "\\ V( <a4-a12> )\n",
      "\n",
      "\\ V( <a4-a7> )\n",
      "\n",
      "\\ V( <a4-a9> )\n",
      "\n",
      "\\ V( <a5> )\n",
      "\n",
      "\\ V( <a5-a10> )\n",
      "\n",
      "\\ V( <a6> )\n",
      "\n",
      "\\ V( <a6*a10+a4-a7> )\n",
      "\n",
      "\\ V( <a6*a10-a10*a11-a7+a12> )\n",
      "\n",
      "\\ V( <a6*a10-a7> )\n",
      "\n",
      "\\ V( <a6*a10-a7+1> )\n",
      "\n",
      "\\ V( <a7> )\n",
      "\n",
      "\\ V( <a7-a9> )\n",
      "\n",
      "\\ V( <a8> )\n",
      "\n",
      "\\ V( <a8*a10+a3-a9> )\n",
      "\n",
      "\\ V( <a8*a10-a10*a11-a9+a12> )\n",
      "\n",
      "\\ V( <a8*a10-a9> )\n",
      "\n",
      "\\ V( <a8*a10-a9+1> )\n",
      "\n",
      "\\ V( <a8*a10-a9-a10> )\n",
      "\n",
      "\\ V( <a9> )\n",
      "\n",
      "\\ V( <a9-a12> )\n"
     ]
    }
   ],
   "source": [
    "Display( m )"
   ]
  },
  {
   "cell_type": "markdown",
   "id": "fc1048b3",
   "metadata": {},
   "source": [
    "### The points of the above quasi-affine moduli space are admissible specializations of the following parametrized arrangement:"
   ]
  },
  {
   "cell_type": "code",
   "execution_count": 11,
   "id": "719256d0",
   "metadata": {},
   "outputs": [
    {
     "data": {
      "text/plain": [
       "GAP: <A vector matroid>"
      ]
     },
     "execution_count": 11,
     "metadata": {},
     "output_type": "execute_result"
    }
   ],
   "source": [
    "arr = ParametrizedObject( m )"
   ]
  },
  {
   "cell_type": "code",
   "execution_count": 12,
   "id": "49f3aad0",
   "metadata": {},
   "outputs": [
    {
     "name": "stdout",
     "output_type": "stream",
     "text": [
      "The vector matroid of this matrix over Z[a1,a2,a3,a4,a5,a6,a7,a8,a9,a10,a11,a12]:\n",
      "1,0,1,1, 1, 0,1,1, 1, 0, 1, 1, 0,  1,  \n",
      "0,1,1,a1,a2,0,0,0, 0, 1, a6,a8,1,  a11,\n",
      "0,0,0,0, 0, 1,1,a3,a4,a5,a7,a9,a10,a12 \n"
     ]
    }
   ],
   "source": [
    "Display( arr )"
   ]
  },
  {
   "cell_type": "markdown",
   "id": "95753c2d",
   "metadata": {},
   "source": [
    "### Embed the moduli space in a significantly smaller ambient affine space:"
   ]
  },
  {
   "cell_type": "code",
   "execution_count": 13,
   "id": "b75d1adb",
   "metadata": {},
   "outputs": [
    {
     "data": {
      "text/plain": [
       "GAP: V_{Z[a9]}( I ) \\ V_{Z[a9]}( J_1 ) \\ V_{Z[a9]}( J_2 )"
      ]
     },
     "execution_count": 13,
     "metadata": {},
     "output_type": "execute_result"
    }
   ],
   "source": [
    "e = EmbedInSmallerAmbientSpace( m )"
   ]
  },
  {
   "cell_type": "code",
   "execution_count": 14,
   "id": "20937b6f",
   "metadata": {},
   "outputs": [
    {
     "name": "stdout",
     "output_type": "stream",
     "text": [
      "V( <2*a9^2-2*a9+1> )\n",
      "\n",
      "\\ V( <5,a9+1> )\n",
      "\n",
      "\\ V( <5,a9-2> )\n"
     ]
    }
   ],
   "source": [
    "Display( e )"
   ]
  },
  {
   "cell_type": "markdown",
   "id": "6a0dbb41",
   "metadata": {},
   "source": [
    "### Show that the moduli space is in fact a distinguished quasi affine set, i.e., the difference of an affine set and a hypersurface:"
   ]
  },
  {
   "cell_type": "code",
   "execution_count": 15,
   "id": "57609a9a",
   "metadata": {},
   "outputs": [
    {
     "data": {
      "text/plain": [
       "GAP: V_{Z[a9]}( I ) \\ V_{Z[a9]}( J_1 ) \\ V_{Z[a9]}( J_2 )"
      ]
     },
     "execution_count": 15,
     "metadata": {},
     "output_type": "execute_result"
    }
   ],
   "source": [
    "a = DistinguishedLocallyClosedPart( e )"
   ]
  },
  {
   "cell_type": "code",
   "execution_count": 16,
   "id": "16c4432d",
   "metadata": {},
   "outputs": [
    {
     "name": "stdout",
     "output_type": "stream",
     "text": [
      "V( <2*a9^2-2*a9+1> )\n",
      "\n",
      "\\ V( <3*a9-1> )\n",
      "\n",
      "\\ V( <a9+1> )\n"
     ]
    }
   ],
   "source": [
    "Display( a )"
   ]
  },
  {
   "cell_type": "markdown",
   "id": "2ab3d392",
   "metadata": {},
   "source": [
    "### Rewrite the parametrized arrangement on the parameters of the new ambient affine space:"
   ]
  },
  {
   "cell_type": "code",
   "execution_count": 17,
   "id": "98b8921d",
   "metadata": {},
   "outputs": [
    {
     "data": {
      "text/plain": [
       "GAP: <A vector matroid>"
      ]
     },
     "execution_count": 17,
     "metadata": {},
     "output_type": "execute_result"
    }
   ],
   "source": [
    "arr = ParametrizedObject( e )"
   ]
  },
  {
   "cell_type": "code",
   "execution_count": 18,
   "id": "f7b6262d",
   "metadata": {},
   "outputs": [
    {
     "name": "stdout",
     "output_type": "stream",
     "text": [
      "The vector matroid of this matrix over Z[a9]/( 2*a9^2-2*a9+1 ):\n",
      "1,0,1,1,     1,   0,1,1,      1,    0, 1,      1, 0,     1,\n",
      "0,1,1,2*a9-1,2*a9,0,0,0,      0,    1, -2*a9+2,1, 1,     1,\n",
      "0,0,0,0,     0,   1,1,-2*a9+1,-a9+1,a9,1,      a9,2*a9-1,1 \n",
      "\n",
      "modulo [ 2*a9^2-2*a9+1 ]\n"
     ]
    }
   ],
   "source": [
    "Display( arr )"
   ]
  },
  {
   "cell_type": "markdown",
   "id": "6672c476",
   "metadata": {},
   "source": [
    "### Compute the characteristic set of the matroid, i.e., the projection of the moduli space on $\\operatorname{Spec} \\mathbb{Z}$:"
   ]
  },
  {
   "cell_type": "code",
   "execution_count": 19,
   "id": "23550af8",
   "metadata": {},
   "outputs": [
    {
     "data": {
      "text/plain": [
       "GAP: ( V_{Z}( I1 ) \\ V_{Z}( J1_1 ) \\ V_{Z}( J1_2 ) )"
      ]
     },
     "execution_count": 19,
     "metadata": {},
     "output_type": "execute_result"
    }
   ],
   "source": [
    "charset = ConstructibleProjection( e )"
   ]
  },
  {
   "cell_type": "code",
   "execution_count": 20,
   "id": "136f2d84",
   "metadata": {},
   "outputs": [
    {
     "name": "stdout",
     "output_type": "stream",
     "text": [
      "( V( <> )\n",
      "\n",
      "\\ V( <2> )\n",
      "\n",
      "\\ V( <5> ) )\n"
     ]
    }
   ],
   "source": [
    "Display( charset )"
   ]
  },
  {
   "cell_type": "markdown",
   "id": "a1292bf6",
   "metadata": {},
   "source": [
    "### Construct points of the moduli space (they are arrangements in all characteristics apart from $2$ and $5$):"
   ]
  },
  {
   "cell_type": "code",
   "execution_count": 21,
   "id": "f2771c2a",
   "metadata": {},
   "outputs": [
    {
     "data": {
      "text/plain": [
       "GAP: <iterator of closed points of V_{Z[a9]}( I ) \\ V_{Z[a9]}( J_1 ) \\ V_{Z[a9]}( J_2 )>"
      ]
     },
     "execution_count": 21,
     "metadata": {},
     "output_type": "execute_result"
    }
   ],
   "source": [
    "piter = PseudoIteratorOfClosedPoints( e )"
   ]
  },
  {
   "cell_type": "code",
   "execution_count": 22,
   "id": "bd8243fc",
   "metadata": {},
   "outputs": [
    {
     "data": {
      "text/plain": [
       "GAP: <A vector matroid>"
      ]
     },
     "execution_count": 22,
     "metadata": {},
     "output_type": "execute_result"
    }
   ],
   "source": [
    "p = NextIterator( piter )"
   ]
  },
  {
   "cell_type": "code",
   "execution_count": 23,
   "id": "b8a0b049",
   "metadata": {},
   "outputs": [
    {
     "name": "stdout",
     "output_type": "stream",
     "text": [
      "The vector matroid of this matrix over GF(3)[a9]/( a9^2-a9-1 ):\n",
      "1,0,1,1,    1,  0,1,1,   1,    0, 1,   1, 0,    1,\n",
      "0,1,1,-a9-1,-a9,0,0,0,   0,    1, a9-1,1, 1,    1,\n",
      "0,0,0,0,    0,  1,1,a9+1,-a9+1,a9,1,   a9,-a9-1,1 \n",
      "\n",
      "modulo [ a9^2-a9-1 ]\n"
     ]
    }
   ],
   "source": [
    "Display( p )"
   ]
  },
  {
   "cell_type": "code",
   "execution_count": 24,
   "id": "338b4446",
   "metadata": {},
   "outputs": [
    {
     "data": {
      "text/plain": [
       "GAP: <A vector matroid>"
      ]
     },
     "execution_count": 24,
     "metadata": {},
     "output_type": "execute_result"
    }
   ],
   "source": [
    "p = NextIterator( piter )"
   ]
  },
  {
   "cell_type": "code",
   "execution_count": 25,
   "id": "c8af26c2",
   "metadata": {},
   "outputs": [
    {
     "name": "stdout",
     "output_type": "stream",
     "text": [
      "The vector matroid of this matrix over GF(7)[a9]/( a9^2-a9-3 ):\n",
      "1,0,1,1,     1,   0,1,1,      1,    0, 1,      1, 0,     1,\n",
      "0,1,1,2*a9-1,2*a9,0,0,0,      0,    1, -2*a9+2,1, 1,     1,\n",
      "0,0,0,0,     0,   1,1,-2*a9+1,-a9+1,a9,1,      a9,2*a9-1,1 \n",
      "\n",
      "modulo [ a9^2-a9-3 ]\n"
     ]
    }
   ],
   "source": [
    "Display( p )"
   ]
  },
  {
   "cell_type": "code",
   "execution_count": 26,
   "id": "d21526e3",
   "metadata": {},
   "outputs": [
    {
     "data": {
      "text/plain": [
       "GAP: <A vector matroid>"
      ]
     },
     "execution_count": 26,
     "metadata": {},
     "output_type": "execute_result"
    }
   ],
   "source": [
    "p = NextIterator( piter )"
   ]
  },
  {
   "cell_type": "code",
   "execution_count": 27,
   "id": "e9d1ad28",
   "metadata": {},
   "outputs": [
    {
     "name": "stdout",
     "output_type": "stream",
     "text": [
      "The vector matroid of this matrix over GF(11)[a9]/( a9^2-a9-5 ):\n",
      "1,0,1,1,     1,   0,1,1,      1,    0, 1,      1, 0,     1,\n",
      "0,1,1,2*a9-1,2*a9,0,0,0,      0,    1, -2*a9+2,1, 1,     1,\n",
      "0,0,0,0,     0,   1,1,-2*a9+1,-a9+1,a9,1,      a9,2*a9-1,1 \n",
      "\n",
      "modulo [ a9^2-a9-5 ]\n"
     ]
    }
   ],
   "source": [
    "Display( p )"
   ]
  },
  {
   "cell_type": "code",
   "execution_count": 28,
   "id": "307f711d",
   "metadata": {},
   "outputs": [
    {
     "data": {
      "text/plain": [
       "GAP: <A vector matroid>"
      ]
     },
     "execution_count": 28,
     "metadata": {},
     "output_type": "execute_result"
    }
   ],
   "source": [
    "p = NextIterator( piter )"
   ]
  },
  {
   "cell_type": "code",
   "execution_count": 29,
   "id": "c4976dba",
   "metadata": {},
   "outputs": [
    {
     "name": "stdout",
     "output_type": "stream",
     "text": [
      "The vector matroid of this matrix over GF(13):\n",
      "1,0,1,1, 1, 0,1,1,1,0, 1,1, 0, 1,\n",
      "0,1,1,-5,-4,0,0,0,0,1, 6,1, 1, 1,\n",
      "0,0,0,0, 0, 1,1,5,3,-2,1,-2,-5,1 \n"
     ]
    }
   ],
   "source": [
    "Display( p )"
   ]
  },
  {
   "cell_type": "code",
   "execution_count": 30,
   "id": "9d17fe58",
   "metadata": {},
   "outputs": [
    {
     "data": {
      "text/plain": [
       "GAP: <A vector matroid>"
      ]
     },
     "execution_count": 30,
     "metadata": {},
     "output_type": "execute_result"
    }
   ],
   "source": [
    "p = NextIterator( piter )"
   ]
  },
  {
   "cell_type": "code",
   "execution_count": 31,
   "id": "a537a7d7",
   "metadata": {},
   "outputs": [
    {
     "name": "stdout",
     "output_type": "stream",
     "text": [
      "The vector matroid of this matrix over GF(17):\n",
      "1,0,1,1,1,0,1,1, 1,0, 1, 1, 0,1,\n",
      "0,1,1,4,5,0,0,0, 0,1, -3,1, 1,1,\n",
      "0,0,0,0,0,1,1,-4,7,-6,1, -6,4,1 \n"
     ]
    }
   ],
   "source": [
    "Display( p )"
   ]
  }
 ],
 "metadata": {
  "@webio": {
   "lastCommId": null,
   "lastKernelId": null
  },
  "kernelspec": {
   "display_name": "Julia 1.11.1",
   "language": "julia",
   "name": "julia-1.11"
  },
  "language_info": {
   "file_extension": ".jl",
   "mimetype": "application/julia",
   "name": "julia",
   "version": "1.11.1"
  }
 },
 "nbformat": 4,
 "nbformat_minor": 5
}
