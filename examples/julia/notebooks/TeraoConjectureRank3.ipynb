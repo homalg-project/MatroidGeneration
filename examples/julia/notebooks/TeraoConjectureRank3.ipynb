{
 "cells": [
  {
   "cell_type": "markdown",
   "metadata": {},
   "source": [
    "[![Binder](https://mybinder.org/badge_logo.svg)](https://gesis.mybinder.org/v2/gh/homalg-project/CapAndHomalgNotebooks/master?urlpath=git-pull%3Frepo%3Dhttps%253A%252F%252Fgithub.com%252Fhomalg-project%252FMatroidGeneration%26urlpath%3Dtree%252FMatroidGeneration%252Fexamples%252Fjulia%252Fnotebooks%252FTeraoConjectureRank3.ipynb%26branch%3Dmaster)"
   ]
  },
  {
   "cell_type": "markdown",
   "metadata": {},
   "source": [
    "# The proof of Terao freeness conjecture for rank 3 arrangement with 14 hyperplanes in any charactereistic.\n",
    "\n",
    "[BBJKL] Mohamed Barakat, Reimer Behrends, Christopher Jefferson, Lukas Kühne, and Martin Leuner. *On the generation of rank $3$ simple matroids with an application to Terao's freeness conjecture.* ([arXiv:1907.01073](https://arxiv.org/abs/1907.01073))"
   ]
  },
  {
   "cell_type": "markdown",
   "metadata": {},
   "source": [
    "### We start by loading the necessary packages:"
   ]
  },
  {
   "cell_type": "code",
   "execution_count": 1,
   "metadata": {},
   "outputs": [
    {
     "name": "stdout",
     "output_type": "stream",
     "text": [
      "CapAndHomalg v\u001b[32m1.4.2\u001b[39m\n",
      "Imported OSCAR's components GAP and Singular_jll\n",
      "Type: ?CapAndHomalg for more information\n"
     ]
    }
   ],
   "source": [
    "using CapAndHomalg"
   ]
  },
  {
   "cell_type": "code",
   "execution_count": 2,
   "metadata": {},
   "outputs": [
    {
     "name": "stdout",
     "output_type": "stream",
     "text": [
      "#I  Warning: ParallelyEvaluateRecursiveIterator can only be loaded in HPCGAP\n"
     ]
    }
   ],
   "source": [
    "LoadPackage( \"MatroidGeneration\" )"
   ]
  },
  {
   "cell_type": "markdown",
   "metadata": {},
   "source": [
    "## Now we connect to the publically available matroid DB powered ArangoDB (for this to work you need `arangosh` preinstalled on your machine, there is no Julia solution yet):"
   ]
  },
  {
   "cell_type": "code",
   "execution_count": 3,
   "metadata": {},
   "outputs": [
    {
     "name": "stdout",
     "output_type": "stream",
     "text": [
      "#I  Connecting to http+ssl://matroid.mathematik.uni-siegen.de:443\n"
     ]
    },
    {
     "data": {
      "text/plain": [
       "GAP: [object ArangoDatabase \"MatroidsDB\"]"
      ]
     },
     "execution_count": 3,
     "metadata": {},
     "output_type": "execute_result"
    }
   ],
   "source": [
    "db = AttachMatroidsDatabase()"
   ]
  },
  {
   "cell_type": "markdown",
   "metadata": {},
   "source": [
    "## Now we prove the above mentioned instance of Terao's freeness conjecture with a single DB query:"
   ]
  },
  {
   "cell_type": "code",
   "execution_count": 4,
   "metadata": {},
   "outputs": [
    {
     "data": {
      "text/plain": [
       "GAP: [ArangoQueryCursor in [object ArangoDatabase \"MatroidsDB\"]]"
      ]
     },
     "execution_count": 4,
     "metadata": {},
     "output_type": "execute_result"
    }
   ],
   "source": [
    "q = QueryDatabase(\n",
    "  GapObj( Dict(\n",
    "        \"Rank\" => 3,\n",
    "        \"NumberOfAtoms\" => 14,\n",
    "        \"IsRepresentable\" => true,\n",
    "        \"IsInductivelyFree\" => false,\n",
    "        \"IsStronglyBalanced\" => true,\n",
    "        \"IsUniquelyRepresentableOverZ\" => false ) ),\n",
    "  db.matroids_split_public )"
   ]
  },
  {
   "cell_type": "code",
   "execution_count": 5,
   "metadata": {},
   "outputs": [
    {
     "data": {
      "text/plain": [
       "0"
      ]
     },
     "execution_count": 5,
     "metadata": {},
     "output_type": "execute_result"
    }
   ],
   "source": [
    "q.count()"
   ]
  }
 ],
 "metadata": {
  "@webio": {
   "lastCommId": null,
   "lastKernelId": null
  },
  "kernelspec": {
   "display_name": "Julia 1.7.3",
   "language": "julia",
   "name": "julia-1.7"
  },
  "language_info": {
   "file_extension": ".jl",
   "mimetype": "application/julia",
   "name": "julia",
   "version": "1.7.3"
  }
 },
 "nbformat": 4,
 "nbformat_minor": 2
}
